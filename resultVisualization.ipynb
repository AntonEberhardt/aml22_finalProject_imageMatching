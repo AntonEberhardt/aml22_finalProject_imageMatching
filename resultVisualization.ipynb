{
 "cells": [
  {
   "cell_type": "code",
   "execution_count": null,
   "metadata": {},
   "outputs": [],
   "source": [
    "import numpy as np\n",
    "import matplotlib.pyplot as plt\n",
    "import os\n",
    "from skimage import io, transform\n",
    "import torchvision\n",
    "import torch\n",
    "from scipy.spatial.transform import Rotation"
   ]
  },
  {
   "cell_type": "markdown",
   "metadata": {},
   "source": [
    "## First training try on shopFacade, 100 epochs"
   ]
  },
  {
   "cell_type": "code",
   "execution_count": null,
   "metadata": {},
   "outputs": [],
   "source": [
    "testErr = []\n",
    "epochs = []\n",
    "\n",
    "for file in os.listdir(\"./ShopFacade/run-22-09-14/\"):\n",
    "    if file.startswith(\"test_\"):\n",
    "        test = np.loadtxt(\"./ShopFacade/run-22-09-14/\"+file)\n",
    "        e = int((file.split(\"epoch\")[-1]).split(\".\")[0])\n",
    "        epochs.append(e)\n",
    "        testErr.append(test.mean())\n",
    "\n",
    "plt.figure(figsize=(10,10))\n",
    "\n",
    "plt.plot(epochs, testErr, ls=\"\", marker=\".\")\n",
    "plt.xlabel(\"Epochs\")\n",
    "plt.ylabel(\"Mean test distance\")\n",
    "plt.show()"
   ]
  },
  {
   "cell_type": "markdown",
   "metadata": {},
   "source": [
    "## Translation vectors for different kaggle training sets"
   ]
  },
  {
   "cell_type": "code",
   "execution_count": null,
   "metadata": {},
   "outputs": [],
   "source": [
    "trainSets = [\"./kaggle-data/train/brandenburg_gate/calibration.csv\", \"./kaggle-data/train/sacre_coeur/calibration.csv\", \"./kaggle-data/train/notre_dame_front_facade/calibration.csv\"]\n",
    "fig1, ax1 = plt.subplots(1,3, figsize=(14,4))\n",
    "\n",
    "for j, file in enumerate(trainSets):\n",
    "    calibFile = np.loadtxt(file, dtype = str, skiprows=1, delimiter=\",\")\n",
    "    translations = np.array([i.split(\" \") for i in calibFile[:,-1]], dtype=float)\n",
    "\n",
    "    r = np.array([i.split(\" \") for i in calibFile[:, 2]], dtype=float)\n",
    "    r = r.reshape(-1,3,3)\n",
    "\n",
    "    rots = [Rotation.from_matrix(r[i]) for i in range(r.shape[0])]\n",
    "    rots = np.array([i.as_euler(\"zxy\") for i in rots])\n",
    "\n",
    "    norm2DRots = 10*-(np.array([rots[:, 0],rots[:, 1]]) / np.linalg.norm(rots[:,:2], axis=1)).T\n",
    "\n",
    "    k = ax1[j].scatter(translations[:,0],translations[:,1], c=translations[:,2], cmap=\"summer\")\n",
    "    ax1[j].quiver(translations[:,0], translations[:,1], norm2DRots[:,0] , norm2DRots[:,1], scale_units = \"inches\", scale=75)\n",
    "    ax1[j].set_title(file.split(\"/\")[3])\n",
    "\n",
    "    plt.colorbar(k, ax=ax1[j])\n",
    "\n",
    "\n",
    "plt.show()"
   ]
  },
  {
   "cell_type": "markdown",
   "metadata": {},
   "source": [
    "The translation vectors are hard to use, since their origin is defined by the average translation vector (the average of all should be [0,0,0], at least it looks like it)."
   ]
  },
  {
   "cell_type": "code",
   "execution_count": null,
   "metadata": {},
   "outputs": [],
   "source": []
  },
  {
   "cell_type": "markdown",
   "metadata": {},
   "source": [
    "## Test to form visual intuition for scaling process used in anchorNet"
   ]
  },
  {
   "cell_type": "code",
   "execution_count": null,
   "metadata": {},
   "outputs": [],
   "source": [
    "orig = io.imread(\"./ShopFacade/seq1/frame00001.png\")\n",
    "\n",
    "trans = transform.resize(orig, (224,224), mode=\"constant\")\n",
    "\n",
    "fig2, ax2 = plt.subplots(1,2, figsize=(14, 7))\n",
    "\n",
    "ax2[0].imshow(orig)\n",
    "ax2[1].imshow(trans)\n",
    "\n",
    "plt.show()"
   ]
  },
  {
   "cell_type": "code",
   "execution_count": null,
   "metadata": {},
   "outputs": [],
   "source": [
    "orig = io.imread(\"./KingsCollege/seq1/frame00001.png\")\n",
    "\n",
    "trans = transform.resize(orig, (224,224), mode=\"constant\")\n",
    "\n",
    "fig2, ax2 = plt.subplots(1,2, figsize=(14, 7))\n",
    "\n",
    "ax2[0].imshow(orig)\n",
    "ax2[1].imshow(trans)\n",
    "\n",
    "plt.show()"
   ]
  },
  {
   "cell_type": "code",
   "execution_count": null,
   "metadata": {},
   "outputs": [],
   "source": []
  }
 ],
 "metadata": {
  "kernelspec": {
   "display_name": "Python 3.9.12 ('AML')",
   "language": "python",
   "name": "python3"
  },
  "language_info": {
   "codemirror_mode": {
    "name": "ipython",
    "version": 3
   },
   "file_extension": ".py",
   "mimetype": "text/x-python",
   "name": "python",
   "nbconvert_exporter": "python",
   "pygments_lexer": "ipython3",
   "version": "3.9.13"
  },
  "orig_nbformat": 4,
  "vscode": {
   "interpreter": {
    "hash": "6f3fd06b0b48bde2f2f5e7c98d176e850f399d5e50bc95626d8d2defa0349bdc"
   }
  }
 },
 "nbformat": 4,
 "nbformat_minor": 2
}
